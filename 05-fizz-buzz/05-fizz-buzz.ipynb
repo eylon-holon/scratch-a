{
 "cells": [
  {
   "cell_type": "code",
   "execution_count": 1,
   "metadata": {},
   "outputs": [
    {
     "name": "stdout",
     "output_type": "stream",
     "text": [
      "Hi oria-dabach 😁! Let's start the lesson... 🙌\n"
     ]
    }
   ],
   "source": [
    "import os\n",
    "while not os.getcwd().endswith(\"scratch-a\"): os.chdir(\"..\")\n",
    "from eylon.core import *\n",
    "\n",
    "def fizz_buzz_is_here(): pass\n",
    "def all_done(): pass\n",
    "\n",
    "start({\n",
    "    \"fizz_buzz_is_here()\": [],\n",
    "    \"all_done()\": [],\n",
    "})"
   ]
  },
  {
   "cell_type": "code",
   "execution_count": null,
   "metadata": {},
   "outputs": [],
   "source": [
    "submit(fizz_buzz_is_here)"
   ]
  },
  {
   "cell_type": "code",
   "execution_count": null,
   "metadata": {},
   "outputs": [],
   "source": [
    "store_all_changes_to_github()\n",
    "submit(all_done)"
   ]
  }
 ],
 "metadata": {
  "kernelspec": {
   "display_name": "Python 3",
   "language": "python",
   "name": "python3"
  },
  "language_info": {
   "codemirror_mode": {
    "name": "ipython",
    "version": 3
   },
   "file_extension": ".py",
   "mimetype": "text/x-python",
   "name": "python",
   "nbconvert_exporter": "python",
   "pygments_lexer": "ipython3",
   "version": "3.12.1"
  }
 },
 "nbformat": 4,
 "nbformat_minor": 2
}
