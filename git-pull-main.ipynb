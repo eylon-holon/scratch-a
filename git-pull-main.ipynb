{
 "cells": [
  {
   "cell_type": "code",
   "execution_count": 1,
   "metadata": {},
   "outputs": [
    {
     "name": "stderr",
     "output_type": "stream",
     "text": [
      "From https://github.com/eylon-holon/scratch-a\n",
      "   db2f539..d013fc2  alma-drobles       -> origin/alma-drobles\n",
      "   53cbdb2..61d0d9a  ariel-cohen        -> origin/ariel-cohen\n",
      "   6bf61bd..12f5d6a  gosha-smeh         -> origin/gosha-smeh\n",
      "   766a4b4..af280d7  kristina-haysenyuk -> origin/kristina-haysenyuk\n",
      "   d016761..5a9e774  main               -> origin/main\n",
      "   a3214b3..2ac4c10  oria-dabach        -> origin/oria-dabach\n",
      "   ef59bf1..1bc132c  oriel-aisha        -> origin/oriel-aisha\n",
      "   f549c8f..30b67fe  tom-zuckerstein    -> origin/tom-zuckerstein\n"
     ]
    },
    {
     "name": "stdout",
     "output_type": "stream",
     "text": [
      "Already up to date.\n",
      "\n",
      "\n",
      "[or-yakov ef5f568] auto commit...\n",
      " 1 file changed, 41 insertions(+), 5 deletions(-)\n",
      "\n"
     ]
    },
    {
     "name": "stderr",
     "output_type": "stream",
     "text": [
      "To https://github.com/eylon-holon/scratch-a\n",
      "   85cf4c7..ef5f568  or-yakov -> or-yakov\n"
     ]
    },
    {
     "name": "stdout",
     "output_type": "stream",
     "text": [
      "\n",
      "Merge made by the 'ort' strategy.\n",
      " 40-mafmars/40-mafmar-a.dib          | 49 +++++++++++++++++++---\n",
      " 40-mafmars/40-mafmar-a.solution.dib | 83 +++++++++++++++++++++++++++----------\n",
      " 2 files changed, 105 insertions(+), 27 deletions(-)\n",
      "\n",
      "\n"
     ]
    },
    {
     "name": "stderr",
     "output_type": "stream",
     "text": [
      "To https://github.com/eylon-holon/scratch-a\n",
      "   ef5f568..dfb3243  or-yakov -> or-yakov\n"
     ]
    }
   ],
   "source": [
    "from eylon.core import *\n",
    "store_all_changes_to_github()\n",
    "get_next_lesson()"
   ]
  }
 ],
 "metadata": {
  "kernelspec": {
   "display_name": "Python 3",
   "language": "python",
   "name": "python3"
  },
  "language_info": {
   "codemirror_mode": {
    "name": "ipython",
    "version": 3
   },
   "file_extension": ".py",
   "mimetype": "text/x-python",
   "name": "python",
   "nbconvert_exporter": "python",
   "pygments_lexer": "ipython3",
   "version": "3.12.1"
  }
 },
 "nbformat": 4,
 "nbformat_minor": 2
}
