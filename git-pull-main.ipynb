{
 "cells": [
  {
   "cell_type": "code",
   "execution_count": null,
   "metadata": {
    "dotnet_interactive": {
     "language": "csharp"
    },
    "polyglot_notebook": {
     "kernelName": "csharp"
    }
   },
   "outputs": [
    {
     "name": "stderr",
     "output_type": "stream",
     "text": [
      "From https://github.com/eylon-holon/scratch-a\n",
      "   d013fc2..6a33af2  alma-drobles       -> origin/alma-drobles\n",
      "   1c2c78a..131107f  alon-abekasis      -> origin/alon-abekasis\n",
      "   61d0d9a..05f3f98  ariel-cohen        -> origin/ariel-cohen\n",
      "   12f5d6a..6f0abea  gosha-smeh         -> origin/gosha-smeh\n",
      "   af280d7..6a23346  kristina-haysenyuk -> origin/kristina-haysenyuk\n",
      "   2c36687..81eda34  liraz-aharonov     -> origin/liraz-aharonov\n",
      "   5a9e774..8f2a6f9  main               -> origin/main\n",
      "   863603b..b2a4610  maya-rosenzweig    -> origin/maya-rosenzweig\n",
      "   7be781e..a7fd9a1  netaniel-netaniel  -> origin/netaniel-netaniel\n",
      "   a659785..d8dd4ed  noa-rosenzweig     -> origin/noa-rosenzweig\n",
      "   9bd8bb4..b732421  ofir-lifshits      -> origin/ofir-lifshits\n",
      "   2999e30..58e5dc1  or-itzhak          -> origin/or-itzhak\n",
      "   85cf4c7..3bb0737  or-yakov           -> origin/or-yakov\n",
      "   2ac4c10..2a3de61  oria-dabach        -> origin/oria-dabach\n"
     ]
    },
    {
     "name": "stdout",
     "output_type": "stream",
     "text": [
      "Already up to date.\n",
      "\n",
      "\n",
      "[tom-zuckerstein a8d5b3a] auto commit...\n",
      " 3 files changed, 59 insertions(+), 82 deletions(-)\n",
      "\n"
     ]
    },
    {
     "name": "stderr",
     "output_type": "stream",
     "text": [
      "To https://github.com/eylon-holon/scratch-a\n",
      "   30b67fe..a8d5b3a  tom-zuckerstein -> tom-zuckerstein\n"
     ]
    },
    {
     "name": "stdout",
     "output_type": "stream",
     "text": [
      "\n",
      "Merge made by the 'ort' strategy.\n",
      " daf-ezer/def-ezer-scratch.dib | 588 ++++++++++++++++++++++++++++++++++++++++++\n",
      " 1 file changed, 588 insertions(+)\n",
      " create mode 100644 daf-ezer/def-ezer-scratch.dib\n",
      "\n",
      "\n"
     ]
    },
    {
     "name": "stderr",
     "output_type": "stream",
     "text": [
      "To https://github.com/eylon-holon/scratch-a\n",
      "   a8d5b3a..95b2bb3  tom-zuckerstein -> tom-zuckerstein\n"
     ]
    }
   ],
   "source": [
    "from eylon.core import *\n",
    "store_all_changes_to_github()\n",
    "get_next_lesson()"
   ]
  },
  {
   "cell_type": "code",
   "execution_count": null,
   "metadata": {},
   "outputs": [],
   "source": []
  },
  {
   "cell_type": "code",
   "execution_count": null,
   "metadata": {},
   "outputs": [],
   "source": []
  }
 ],
 "metadata": {
  "kernelspec": {
   "display_name": "Python 3",
   "language": "python",
   "name": "python3"
  },
  "language_info": {
   "codemirror_mode": {
    "name": "ipython",
    "version": 3
   },
   "file_extension": ".py",
   "mimetype": "text/x-python",
   "name": "python",
   "nbconvert_exporter": "python",
   "pygments_lexer": "ipython3",
   "version": "3.12.1"
  },
  "polyglot_notebook": {
   "kernelInfo": {
    "defaultKernelName": "csharp",
    "items": [
     {
      "aliases": [],
      "name": "csharp"
     }
    ]
   }
  }
 },
 "nbformat": 4,
 "nbformat_minor": 2
}
