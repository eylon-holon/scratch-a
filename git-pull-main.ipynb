{
 "cells": [
  {
   "cell_type": "code",
   "execution_count": 1,
   "metadata": {
    "dotnet_interactive": {
     "language": "csharp"
    },
    "polyglot_notebook": {
     "kernelName": "csharp"
    }
   },
   "outputs": [
    {
     "name": "stderr",
     "output_type": "stream",
     "text": [
      "From https://github.com/eylon-holon/scratch-a\n",
      "   db2f539..6a33af2  alma-drobles       -> origin/alma-drobles\n",
      "   53cbdb2..5a78b57  ariel-cohen        -> origin/ariel-cohen\n",
      "   6bf61bd..12f5d6a  gosha-smeh         -> origin/gosha-smeh\n",
      "   766a4b4..af280d7  kristina-haysenyuk -> origin/kristina-haysenyuk\n",
      "   84500f6..5a9e774  main               -> origin/main\n",
      "   863603b..b2a4610  maya-rosenzweig    -> origin/maya-rosenzweig\n",
      "   a659785..d8dd4ed  noa-rosenzweig     -> origin/noa-rosenzweig\n",
      "   56bc3f4..9bd8bb4  ofir-lifshits      -> origin/ofir-lifshits\n",
      "   f90799e..dfb3243  or-yakov           -> origin/or-yakov\n",
      "   d37179e..2ac4c10  oria-dabach        -> origin/oria-dabach\n",
      "   ef59bf1..1bc132c  oriel-aisha        -> origin/oriel-aisha\n",
      "   f549c8f..30b67fe  tom-zuckerstein    -> origin/tom-zuckerstein\n"
     ]
    },
    {
     "name": "stdout",
     "output_type": "stream",
     "text": [
      "Already up to date.\n",
      "\n",
      "\n",
      "[liraz-aharonov fd870eb] auto commit...\n",
      " 2 files changed, 3 insertions(+), 52 deletions(-)\n",
      "\n"
     ]
    },
    {
     "name": "stderr",
     "output_type": "stream",
     "text": [
      "To https://github.com/eylon-holon/scratch-a\n",
      "   2c36687..fd870eb  liraz-aharonov -> liraz-aharonov\n"
     ]
    },
    {
     "name": "stdout",
     "output_type": "stream",
     "text": [
      "\n",
      "Auto-merging 40-mafmars/40-mafmar-a.dib\n",
      "Merge made by the 'ort' strategy.\n",
      " 40-mafmars/40-mafmar-a.dib          |  81 ++++-\n",
      " 40-mafmars/40-mafmar-a.solution.dib | 596 ++++++++++++++++++++++++++++++++++++\n",
      " 2 files changed, 661 insertions(+), 16 deletions(-)\n",
      " create mode 100644 40-mafmars/40-mafmar-a.solution.dib\n",
      "\n",
      "\n"
     ]
    },
    {
     "name": "stderr",
     "output_type": "stream",
     "text": [
      "To https://github.com/eylon-holon/scratch-a\n",
      "   fd870eb..c13c23e  liraz-aharonov -> liraz-aharonov\n"
     ]
    }
   ],
   "source": [
    "from eylon.core import *\n",
    "store_all_changes_to_github()\n",
    "get_next_lesson()"
   ]
  }
 ],
 "metadata": {
  "kernelspec": {
   "display_name": "Python 3",
   "language": "python",
   "name": "python3"
  },
  "language_info": {
   "codemirror_mode": {
    "name": "ipython",
    "version": 3
   },
   "file_extension": ".py",
   "mimetype": "text/x-python",
   "name": "python",
   "nbconvert_exporter": "python",
   "pygments_lexer": "ipython3",
   "version": "3.12.1"
  },
  "polyglot_notebook": {
   "kernelInfo": {
    "defaultKernelName": "csharp",
    "items": [
     {
      "aliases": [],
      "name": "csharp"
     }
    ]
   }
  }
 },
 "nbformat": 4,
 "nbformat_minor": 2
}
