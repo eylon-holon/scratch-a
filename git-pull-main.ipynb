{
 "cells": [
  {
   "cell_type": "code",
   "execution_count": 1,
   "metadata": {},
   "outputs": [
    {
     "name": "stdout",
     "output_type": "stream",
     "text": [
      "\n",
      "[netaniel-netaniel a1b992d] auto commit...\n",
      " 3 files changed, 7 insertions(+), 7 deletions(-)\n",
      "\n"
     ]
    },
    {
     "name": "stderr",
     "output_type": "stream",
     "text": [
      "To https://github.com/eylon-holon/scratch-a\n",
      "   fa248cf..a1b992d  netaniel-netaniel -> netaniel-netaniel\n"
     ]
    },
    {
     "name": "stdout",
     "output_type": "stream",
     "text": [
      "\n"
     ]
    },
    {
     "name": "stderr",
     "output_type": "stream",
     "text": [
      "From https://github.com/eylon-holon/scratch-a\n",
      " * branch            main       -> FETCH_HEAD\n",
      "   c94a70d..bc0c3df  main       -> origin/main\n"
     ]
    },
    {
     "name": "stdout",
     "output_type": "stream",
     "text": [
      "Merge made by the 'ort' strategy.\n",
      " 30-scratch-pen/30-scratch-pen-intro.dib | 115 ++++++++++++++++++++++++++++++++\n",
      " 30-scratch-pen/img/turtle-q01.png       | Bin 0 -> 4841 bytes\n",
      " 30-scratch-pen/img/turtle-q02.png       | Bin 0 -> 13674 bytes\n",
      " 30-scratch-pen/img/turtle-q03.png       | Bin 0 -> 6659 bytes\n",
      " 30-scratch-pen/img/turtle-q04.png       | Bin 0 -> 9191 bytes\n",
      " 5 files changed, 115 insertions(+)\n",
      " create mode 100644 30-scratch-pen/30-scratch-pen-intro.dib\n",
      " create mode 100644 30-scratch-pen/img/turtle-q01.png\n",
      " create mode 100644 30-scratch-pen/img/turtle-q02.png\n",
      " create mode 100644 30-scratch-pen/img/turtle-q03.png\n",
      " create mode 100644 30-scratch-pen/img/turtle-q04.png\n",
      "\n"
     ]
    },
    {
     "name": "stderr",
     "output_type": "stream",
     "text": [
      "To https://github.com/eylon-holon/scratch-a\n",
      "   a1b992d..e3e2898  netaniel-netaniel -> netaniel-netaniel\n"
     ]
    }
   ],
   "source": [
    "from eylon.core import *\n",
    "store_all_changes_to_github()\n",
    "get_next_lesson()"
   ]
  }
 ],
 "metadata": {
  "kernelspec": {
   "display_name": "Python 3",
   "language": "python",
   "name": "python3"
  },
  "language_info": {
   "codemirror_mode": {
    "name": "ipython",
    "version": 3
   },
   "file_extension": ".py",
   "mimetype": "text/x-python",
   "name": "python",
   "nbconvert_exporter": "python",
   "pygments_lexer": "ipython3",
   "version": "3.12.1"
  }
 },
 "nbformat": 4,
 "nbformat_minor": 2
}
