{
 "cells": [
  {
   "cell_type": "code",
   "execution_count": 1,
   "metadata": {},
   "outputs": [
    {
     "name": "stderr",
     "output_type": "stream",
     "text": [
      "From https://github.com/eylon-holon/scratch-a\n",
      "   2ac0fd4..e2d4be5  adi-heller         -> origin/adi-heller\n",
      "   8dbbeed..d013fc2  alma-drobles       -> origin/alma-drobles\n",
      "   e15adaa..70ea581  ariel-palomo       -> origin/ariel-palomo\n",
      "   748f484..0fd623f  bar-cohen          -> origin/bar-cohen\n",
      "   6bf61bd..12f5d6a  gosha-smeh         -> origin/gosha-smeh\n",
      "   4c29cfa..83daf46  ido-molayem        -> origin/ido-molayem\n",
      "   032800c..766a4b4  kristina-haysenyuk -> origin/kristina-haysenyuk\n",
      "   148e4e9..f136b01  libby-hasson       -> origin/libby-hasson\n",
      "   f9ee9f5..d255ad3  libi-cohen         -> origin/libi-cohen\n",
      "   e703e4f..2c36687  liraz-aharonov     -> origin/liraz-aharonov\n",
      "   84500f6..5a9e774  main               -> origin/main\n",
      "   86db8c8..863603b  maya-rosenzweig    -> origin/maya-rosenzweig\n",
      "   8d89f98..7be781e  netaniel-netaniel  -> origin/netaniel-netaniel\n",
      "   c6645d7..a659785  noa-rosenzweig     -> origin/noa-rosenzweig\n",
      "   56bc3f4..9bd8bb4  ofir-lifshits      -> origin/ofir-lifshits\n",
      "   f90799e..85cf4c7  or-yakov           -> origin/or-yakov\n",
      "   d37179e..2ac4c10  oria-dabach        -> origin/oria-dabach\n",
      "   ef59bf1..94bb8ad  oriel-aisha        -> origin/oriel-aisha\n",
      "   9edae5c..03b6c51  taei-bangiev       -> origin/taei-bangiev\n",
      "   5f19a64..3f1d8a7  tom-zuckerstein    -> origin/tom-zuckerstein\n",
      "   7979283..269eecd  yaara-drobles      -> origin/yaara-drobles\n"
     ]
    },
    {
     "name": "stdout",
     "output_type": "stream",
     "text": [
      "Already up to date.\n",
      "\n",
      "\n",
      "[ariel-cohen 3a5b4e8] auto commit...\n",
      " 2 files changed, 9 insertions(+), 52 deletions(-)\n",
      "\n"
     ]
    },
    {
     "name": "stderr",
     "output_type": "stream",
     "text": [
      "To https://github.com/eylon-holon/scratch-a\n",
      "   53cbdb2..3a5b4e8  ariel-cohen -> ariel-cohen\n"
     ]
    },
    {
     "name": "stdout",
     "output_type": "stream",
     "text": [
      "\n",
      "Auto-merging 40-mafmars/40-mafmar-a.dib\n",
      "Merge made by the 'ort' strategy.\n",
      " 40-mafmars/40-mafmar-a.dib          |  69 ++++-\n",
      " 40-mafmars/40-mafmar-a.solution.dib | 596 ++++++++++++++++++++++++++++++++++++\n",
      " 2 files changed, 653 insertions(+), 12 deletions(-)\n",
      " create mode 100644 40-mafmars/40-mafmar-a.solution.dib\n",
      "\n",
      "\n"
     ]
    },
    {
     "name": "stderr",
     "output_type": "stream",
     "text": [
      "To https://github.com/eylon-holon/scratch-a\n",
      "   3a5b4e8..61d0d9a  ariel-cohen -> ariel-cohen\n"
     ]
    }
   ],
   "source": [
    "from eylon.core import *\n",
    "store_all_changes_to_github()\n",
    "get_next_lesson()"
   ]
  }
 ],
 "metadata": {
  "kernelspec": {
   "display_name": "Python 3",
   "language": "python",
   "name": "python3"
  },
  "language_info": {
   "codemirror_mode": {
    "name": "ipython",
    "version": 3
   },
   "file_extension": ".py",
   "mimetype": "text/x-python",
   "name": "python",
   "nbconvert_exporter": "python",
   "pygments_lexer": "ipython3",
   "version": "3.12.1"
  }
 },
 "nbformat": 4,
 "nbformat_minor": 2
}
