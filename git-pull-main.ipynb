{
 "cells": [
  {
   "cell_type": "code",
   "execution_count": null,
   "metadata": {},
   "outputs": [
    {
     "name": "stdout",
     "output_type": "stream",
     "text": [
      "\n",
      "[gosha-smeh 4ca694f] auto commit...\n",
      " 2 files changed, 7 insertions(+), 12 deletions(-)\n",
      "\n"
     ]
    },
    {
     "name": "stderr",
     "output_type": "stream",
     "text": [
      "To https://github.com/eylon-holon/scratch-a\n",
      "   54b3132..4ca694f  gosha-smeh -> gosha-smeh\n"
     ]
    },
    {
     "name": "stdout",
     "output_type": "stream",
     "text": [
      "\n"
     ]
    },
    {
     "name": "stderr",
     "output_type": "stream",
     "text": [
      "From https://github.com/eylon-holon/scratch-a\n",
      " * branch            main       -> FETCH_HEAD\n",
      "   c94a70d..bc0c3df  main       -> origin/main\n"
     ]
    },
    {
     "name": "stdout",
     "output_type": "stream",
     "text": [
      "Merge made by the 'ort' strategy.\n",
      " 30-scratch-pen/30-scratch-pen-intro.dib | 115 ++++++++++++++++++++++++++++++++\n",
      " 30-scratch-pen/img/turtle-q01.png       | Bin 0 -> 4841 bytes\n",
      " 30-scratch-pen/img/turtle-q02.png       | Bin 0 -> 13674 bytes\n",
      " 30-scratch-pen/img/turtle-q03.png       | Bin 0 -> 6659 bytes\n",
      " 30-scratch-pen/img/turtle-q04.png       | Bin 0 -> 9191 bytes\n",
      " 5 files changed, 115 insertions(+)\n",
      " create mode 100644 30-scratch-pen/30-scratch-pen-intro.dib\n",
      " create mode 100644 30-scratch-pen/img/turtle-q01.png\n",
      " create mode 100644 30-scratch-pen/img/turtle-q02.png\n",
      " create mode 100644 30-scratch-pen/img/turtle-q03.png\n",
      " create mode 100644 30-scratch-pen/img/turtle-q04.png\n",
      "\n"
     ]
    },
    {
     "name": "stderr",
     "output_type": "stream",
     "text": [
      "To https://github.com/eylon-holon/scratch-a\n",
      "   4ca694f..6bf61bd  gosha-smeh -> gosha-smeh\n"
     ]
    }
   ],
   "source": [
    "from eylon.core import *\n",
    "store_all_changes_to_github()\n",
    "get_next_lesson()"
   ]
  }
 ],
 "metadata": {
  "kernelspec": {
   "display_name": "Python 3",
   "language": "python",
   "name": "python3"
  },
  "language_info": {
   "codemirror_mode": {
    "name": "ipython",
    "version": 3
   },
   "file_extension": ".py",
   "mimetype": "text/x-python",
   "name": "python",
   "nbconvert_exporter": "python",
   "pygments_lexer": "ipython3",
   "version": "3.12.1"
  }
 },
 "nbformat": 4,
 "nbformat_minor": 2
}
