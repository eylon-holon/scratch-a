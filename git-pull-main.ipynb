{
 "cells": [
  {
   "cell_type": "code",
   "execution_count": 1,
   "metadata": {},
   "outputs": [
    {
     "name": "stderr",
     "output_type": "stream",
     "text": [
      "From https://github.com/eylon-holon/scratch-a\n",
      "   db2f539..d013fc2  alma-drobles    -> origin/alma-drobles\n",
      "   53cbdb2..61d0d9a  ariel-cohen     -> origin/ariel-cohen\n",
      "   6bf61bd..12f5d6a  gosha-smeh      -> origin/gosha-smeh\n",
      "   14043fb..2c36687  liraz-aharonov  -> origin/liraz-aharonov\n",
      "   84500f6..5a9e774  main            -> origin/main\n",
      "   56bc3f4..9bd8bb4  ofir-lifshits   -> origin/ofir-lifshits\n",
      "   f90799e..85cf4c7  or-yakov        -> origin/or-yakov\n",
      "   d37179e..2ac4c10  oria-dabach     -> origin/oria-dabach\n",
      "   ef59bf1..1bc132c  oriel-aisha     -> origin/oriel-aisha\n",
      "   9edae5c..03b6c51  taei-bangiev    -> origin/taei-bangiev\n",
      "   5f19a64..3f1d8a7  tom-zuckerstein -> origin/tom-zuckerstein\n"
     ]
    },
    {
     "name": "stdout",
     "output_type": "stream",
     "text": [
      "Already up to date.\n",
      "\n",
      "\n",
      "[kristina-haysenyuk 088a918] auto commit...\n",
      " 2 files changed, 11 insertions(+), 60 deletions(-)\n",
      "\n"
     ]
    },
    {
     "name": "stderr",
     "output_type": "stream",
     "text": [
      "To https://github.com/eylon-holon/scratch-a\n",
      "   766a4b4..088a918  kristina-haysenyuk -> kristina-haysenyuk\n"
     ]
    },
    {
     "name": "stdout",
     "output_type": "stream",
     "text": [
      "\n",
      "Auto-merging 40-mafmars/40-mafmar-a.dib\n",
      "Merge made by the 'ort' strategy.\n",
      " 40-mafmars/40-mafmar-a.dib          |  81 ++++-\n",
      " 40-mafmars/40-mafmar-a.solution.dib | 596 ++++++++++++++++++++++++++++++++++++\n",
      " 2 files changed, 661 insertions(+), 16 deletions(-)\n",
      " create mode 100644 40-mafmars/40-mafmar-a.solution.dib\n",
      "\n",
      "\n"
     ]
    },
    {
     "name": "stderr",
     "output_type": "stream",
     "text": [
      "To https://github.com/eylon-holon/scratch-a\n",
      "   088a918..af280d7  kristina-haysenyuk -> kristina-haysenyuk\n"
     ]
    }
   ],
   "source": [
    "from eylon.core import *\n",
    "store_all_changes_to_github()\n",
    "get_next_lesson()"
   ]
  }
 ],
 "metadata": {
  "kernelspec": {
   "display_name": "Python 3",
   "language": "python",
   "name": "python3"
  },
  "language_info": {
   "codemirror_mode": {
    "name": "ipython",
    "version": 3
   },
   "file_extension": ".py",
   "mimetype": "text/x-python",
   "name": "python",
   "nbconvert_exporter": "python",
   "pygments_lexer": "ipython3",
   "version": "3.12.1"
  }
 },
 "nbformat": 4,
 "nbformat_minor": 2
}
