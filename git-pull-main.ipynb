{
 "cells": [
  {
   "cell_type": "code",
   "execution_count": 1,
   "metadata": {
    "dotnet_interactive": {
     "language": "csharp"
    },
    "polyglot_notebook": {
     "kernelName": "csharp"
    }
   },
   "outputs": [
    {
     "name": "stderr",
     "output_type": "stream",
     "text": [
      "From https://github.com/eylon-holon/scratch-a\n",
      "   db2f539..d013fc2  alma-drobles   -> origin/alma-drobles\n",
      "   6bf61bd..87a5dde  gosha-smeh     -> origin/gosha-smeh\n",
      "   14043fb..2c36687  liraz-aharonov -> origin/liraz-aharonov\n",
      "   84500f6..9138f79  main           -> origin/main\n",
      "   56bc3f4..9bd8bb4  ofir-lifshits  -> origin/ofir-lifshits\n",
      "   f90799e..85cf4c7  or-yakov       -> origin/or-yakov\n",
      "   d37179e..a3214b3  oria-dabach    -> origin/oria-dabach\n",
      "   ef59bf1..94bb8ad  oriel-aisha    -> origin/oriel-aisha\n"
     ]
    },
    {
     "name": "stdout",
     "output_type": "stream",
     "text": [
      "Already up to date.\n",
      "\n",
      "\n",
      "[tom-zuckerstein ae6a959] auto commit...\n",
      " 2 files changed, 8 insertions(+), 14 deletions(-)\n",
      "\n"
     ]
    },
    {
     "name": "stderr",
     "output_type": "stream",
     "text": [
      "To https://github.com/eylon-holon/scratch-a\n",
      "   f549c8f..ae6a959  tom-zuckerstein -> tom-zuckerstein\n"
     ]
    },
    {
     "name": "stdout",
     "output_type": "stream",
     "text": [
      "\n",
      "Auto-merging 40-mafmars/40-mafmar-a.dib\n",
      "Merge made by the 'ort' strategy.\n",
      " 40-mafmars/40-mafmar-a.dib          |  38 ++-\n",
      " 40-mafmars/40-mafmar-a.solution.dib | 557 ++++++++++++++++++++++++++++++++++++\n",
      " 2 files changed, 584 insertions(+), 11 deletions(-)\n",
      " create mode 100644 40-mafmars/40-mafmar-a.solution.dib\n",
      "\n",
      "\n"
     ]
    },
    {
     "name": "stderr",
     "output_type": "stream",
     "text": [
      "To https://github.com/eylon-holon/scratch-a\n",
      "   ae6a959..49af2fe  tom-zuckerstein -> tom-zuckerstein\n"
     ]
    }
   ],
   "source": [
    "from eylon.core import *\n",
    "store_all_changes_to_github()\n",
    "get_next_lesson()"
   ]
  }
 ],
 "metadata": {
  "kernelspec": {
   "display_name": "Python 3",
   "language": "python",
   "name": "python3"
  },
  "language_info": {
   "codemirror_mode": {
    "name": "ipython",
    "version": 3
   },
   "file_extension": ".py",
   "mimetype": "text/x-python",
   "name": "python",
   "nbconvert_exporter": "python",
   "pygments_lexer": "ipython3",
   "version": "3.12.1"
  },
  "polyglot_notebook": {
   "kernelInfo": {
    "defaultKernelName": "csharp",
    "items": [
     {
      "aliases": [],
      "name": "csharp"
     }
    ]
   }
  }
 },
 "nbformat": 4,
 "nbformat_minor": 2
}
