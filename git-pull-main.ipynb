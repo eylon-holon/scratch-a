{
 "cells": [
  {
   "cell_type": "code",
   "execution_count": null,
   "metadata": {},
   "outputs": [
    {
     "name": "stderr",
     "output_type": "stream",
     "text": [
      "From https://github.com/eylon-holon/scratch-a\n",
      "   2ac0fd4..e2d4be5  adi-heller         -> origin/adi-heller\n",
      "   8dbbeed..db2f539  alma-drobles       -> origin/alma-drobles\n",
      "   be6d931..1c2c78a  alon-abekasis      -> origin/alon-abekasis\n",
      "   5a34695..53cbdb2  ariel-cohen        -> origin/ariel-cohen\n",
      "   e15adaa..70ea581  ariel-palomo       -> origin/ariel-palomo\n",
      "   748f484..0fd623f  bar-cohen          -> origin/bar-cohen\n",
      "   f8b295d..b016c6b  elina-berzon       -> origin/elina-berzon\n",
      "   4c29cfa..83daf46  ido-molayem        -> origin/ido-molayem\n",
      "   9efba96..ab6a140  itay-levy          -> origin/itay-levy\n",
      "   032800c..766a4b4  kristina-haysenyuk -> origin/kristina-haysenyuk\n",
      "   148e4e9..f136b01  libby-hasson       -> origin/libby-hasson\n",
      "   f9ee9f5..d255ad3  libi-cohen         -> origin/libi-cohen\n",
      "   e703e4f..2c36687  liraz-aharonov     -> origin/liraz-aharonov\n",
      "   86db8c8..863603b  maya-rosenzweig    -> origin/maya-rosenzweig\n",
      "   8d89f98..7be781e  netaniel-netaniel  -> origin/netaniel-netaniel\n",
      "   c6645d7..a659785  noa-rosenzweig     -> origin/noa-rosenzweig\n",
      "   9edae5c..03b6c51  taei-bangiev       -> origin/taei-bangiev\n",
      "   5f19a64..f549c8f  tom-zuckerstein    -> origin/tom-zuckerstein\n",
      "   7979283..269eecd  yaara-drobles      -> origin/yaara-drobles\n"
     ]
    },
    {
     "name": "stdout",
     "output_type": "stream",
     "text": [
      "Already up to date.\n",
      "\n",
      "\n",
      "[oria-dabach a3214b3] auto commit...\n",
      " 2 files changed, 8 insertions(+), 13 deletions(-)\n",
      "\n"
     ]
    },
    {
     "name": "stderr",
     "output_type": "stream",
     "text": [
      "To https://github.com/eylon-holon/scratch-a\n",
      "   d37179e..a3214b3  oria-dabach -> oria-dabach\n"
     ]
    },
    {
     "name": "stdout",
     "output_type": "stream",
     "text": [
      "\n",
      "Already up to date.\n",
      "\n",
      "\n"
     ]
    },
    {
     "name": "stderr",
     "output_type": "stream",
     "text": [
      "Everything up-to-date\n"
     ]
    }
   ],
   "source": [
    "from eylon.core import *\n",
    "store_all_changes_to_github()\n",
    "get_next_lesson()"
   ]
  }
 ],
 "metadata": {
  "kernelspec": {
   "display_name": "Python 3",
   "language": "python",
   "name": "python3"
  },
  "language_info": {
   "codemirror_mode": {
    "name": "ipython",
    "version": 3
   },
   "file_extension": ".py",
   "mimetype": "text/x-python",
   "name": "python",
   "nbconvert_exporter": "python",
   "pygments_lexer": "ipython3",
   "version": "3.12.1"
  }
 },
 "nbformat": 4,
 "nbformat_minor": 2
}
