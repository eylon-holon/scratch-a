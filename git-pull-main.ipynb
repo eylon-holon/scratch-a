{
 "cells": [
  {
   "cell_type": "code",
   "execution_count": 1,
   "metadata": {},
   "outputs": [
    {
     "name": "stderr",
     "output_type": "stream",
     "text": [
      "From https://github.com/eylon-holon/scratch-a\n",
      "   2ac0fd4..e2d4be5  adi-heller         -> origin/adi-heller\n",
      "   8dbbeed..6a33af2  alma-drobles       -> origin/alma-drobles\n",
      "   1c2c78a..131107f  alon-abekasis      -> origin/alon-abekasis\n",
      "   53cbdb2..05f3f98  ariel-cohen        -> origin/ariel-cohen\n",
      "   6bf61bd..12f5d6a  gosha-smeh         -> origin/gosha-smeh\n",
      "   4c29cfa..83daf46  ido-molayem        -> origin/ido-molayem\n",
      "   032800c..af280d7  kristina-haysenyuk -> origin/kristina-haysenyuk\n",
      "   14043fb..81eda34  liraz-aharonov     -> origin/liraz-aharonov\n",
      "   84500f6..5a9e774  main               -> origin/main\n",
      "   863603b..b2a4610  maya-rosenzweig    -> origin/maya-rosenzweig\n",
      "   a659785..d8dd4ed  noa-rosenzweig     -> origin/noa-rosenzweig\n",
      "   56bc3f4..b732421  ofir-lifshits      -> origin/ofir-lifshits\n",
      "   2999e30..58e5dc1  or-itzhak          -> origin/or-itzhak\n",
      "   f90799e..3bb0737  or-yakov           -> origin/or-yakov\n",
      "   d37179e..2a3de61  oria-dabach        -> origin/oria-dabach\n",
      "   ef59bf1..1bc132c  oriel-aisha        -> origin/oriel-aisha\n",
      "   9edae5c..03b6c51  taei-bangiev       -> origin/taei-bangiev\n",
      "   5f19a64..30b67fe  tom-zuckerstein    -> origin/tom-zuckerstein\n"
     ]
    },
    {
     "name": "stdout",
     "output_type": "stream",
     "text": [
      "Already up to date.\n",
      "\n",
      "\n",
      "[netaniel-netaniel 7356799] auto commit...\n",
      " 3 files changed, 31 insertions(+), 39 deletions(-)\n",
      " rename Cat.sprite3 => netanel/Scratch Project (4) (2) (1).sb3 (89%)\n",
      "\n"
     ]
    },
    {
     "name": "stderr",
     "output_type": "stream",
     "text": [
      "To https://github.com/eylon-holon/scratch-a\n",
      "   7be781e..7356799  netaniel-netaniel -> netaniel-netaniel\n"
     ]
    },
    {
     "name": "stdout",
     "output_type": "stream",
     "text": [
      "\n",
      "Auto-merging 40-mafmars/40-mafmar-a.dib\n",
      "Merge made by the 'ort' strategy.\n",
      " 40-mafmars/40-mafmar-a.dib          |  73 ++++-\n",
      " 40-mafmars/40-mafmar-a.solution.dib | 596 ++++++++++++++++++++++++++++++++++++\n",
      " 2 files changed, 657 insertions(+), 12 deletions(-)\n",
      " create mode 100644 40-mafmars/40-mafmar-a.solution.dib\n",
      "\n",
      "\n"
     ]
    },
    {
     "name": "stderr",
     "output_type": "stream",
     "text": [
      "To https://github.com/eylon-holon/scratch-a\n",
      "   7356799..84813f1  netaniel-netaniel -> netaniel-netaniel\n"
     ]
    }
   ],
   "source": [
    "from eylon.core import *\n",
    "store_all_changes_to_github()\n",
    "get_next_lesson()"
   ]
  }
 ],
 "metadata": {
  "kernelspec": {
   "display_name": "Python 3",
   "language": "python",
   "name": "python3"
  },
  "language_info": {
   "codemirror_mode": {
    "name": "ipython",
    "version": 3
   },
   "file_extension": ".py",
   "mimetype": "text/x-python",
   "name": "python",
   "nbconvert_exporter": "python",
   "pygments_lexer": "ipython3",
   "version": "3.12.1"
  }
 },
 "nbformat": 4,
 "nbformat_minor": 2
}
