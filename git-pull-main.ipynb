{
 "cells": [
  {
   "cell_type": "code",
   "execution_count": null,
   "metadata": {},
   "outputs": [
    {
     "name": "stderr",
     "output_type": "stream",
     "text": [
      "From https://github.com/eylon-holon/scratch-a\n",
      "   032800c..766a4b4  kristina-haysenyuk -> origin/kristina-haysenyuk\n",
      "   14043fb..2c36687  liraz-aharonov     -> origin/liraz-aharonov\n",
      "   84500f6..d016761  main               -> origin/main\n",
      "   56bc3f4..9bd8bb4  ofir-lifshits      -> origin/ofir-lifshits\n",
      "   f90799e..85cf4c7  or-yakov           -> origin/or-yakov\n",
      "   d37179e..a3214b3  oria-dabach        -> origin/oria-dabach\n",
      "   ef59bf1..94bb8ad  oriel-aisha        -> origin/oriel-aisha\n",
      "   9edae5c..03b6c51  taei-bangiev       -> origin/taei-bangiev\n",
      "   5f19a64..f549c8f  tom-zuckerstein    -> origin/tom-zuckerstein\n"
     ]
    },
    {
     "name": "stdout",
     "output_type": "stream",
     "text": [
      "Already up to date.\n",
      "\n",
      "\n",
      "[alma-drobles 138858b] auto commit...\n",
      " 2 files changed, 7 insertions(+), 6 deletions(-)\n",
      "\n"
     ]
    },
    {
     "name": "stderr",
     "output_type": "stream",
     "text": [
      "To https://github.com/eylon-holon/scratch-a\n",
      "   db2f539..138858b  alma-drobles -> alma-drobles\n"
     ]
    },
    {
     "name": "stdout",
     "output_type": "stream",
     "text": [
      "\n",
      "Auto-merging 40-mafmars/40-mafmar-a.dib\n",
      "Merge made by the 'ort' strategy.\n",
      " 40-mafmars/40-mafmar-a.dib          |  28 +-\n",
      " 40-mafmars/40-mafmar-a.solution.dib | 555 ++++++++++++++++++++++++++++++++++++\n",
      " 2 files changed, 575 insertions(+), 8 deletions(-)\n",
      " create mode 100644 40-mafmars/40-mafmar-a.solution.dib\n",
      "\n",
      "\n"
     ]
    },
    {
     "name": "stderr",
     "output_type": "stream",
     "text": [
      "To https://github.com/eylon-holon/scratch-a\n",
      "   138858b..d013fc2  alma-drobles -> alma-drobles\n"
     ]
    }
   ],
   "source": [
    "from eylon.core import *\n",
    "store_all_changes_to_github()\n",
    "get_next_lesson()"
   ]
  }
 ],
 "metadata": {
  "kernelspec": {
   "display_name": "Python 3",
   "language": "python",
   "name": "python3"
  },
  "language_info": {
   "codemirror_mode": {
    "name": "ipython",
    "version": 3
   },
   "file_extension": ".py",
   "mimetype": "text/x-python",
   "name": "python",
   "nbconvert_exporter": "python",
   "pygments_lexer": "ipython3",
   "version": "3.12.1"
  }
 },
 "nbformat": 4,
 "nbformat_minor": 2
}
