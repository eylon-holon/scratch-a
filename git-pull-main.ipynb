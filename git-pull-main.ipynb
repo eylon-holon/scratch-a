{
 "cells": [
  {
   "cell_type": "code",
   "execution_count": 1,
   "metadata": {},
   "outputs": [
    {
     "name": "stdout",
     "output_type": "stream",
     "text": [
      "\n",
      "[alma-drobles ad7213d] auto commit...\n",
      " 2 files changed, 10 insertions(+), 38 deletions(-)\n",
      "\n"
     ]
    },
    {
     "name": "stderr",
     "output_type": "stream",
     "text": [
      "To https://github.com/eylon-holon/scratch-a\n",
      "   8dbbeed..ad7213d  alma-drobles -> alma-drobles\n"
     ]
    },
    {
     "name": "stdout",
     "output_type": "stream",
     "text": [
      "\n"
     ]
    },
    {
     "name": "stderr",
     "output_type": "stream",
     "text": [
      "From https://github.com/eylon-holon/scratch-a\n",
      " * branch            main       -> FETCH_HEAD\n",
      "   c04bf51..84500f6  main       -> origin/main\n"
     ]
    },
    {
     "name": "stdout",
     "output_type": "stream",
     "text": [
      "Auto-merging 40-mafmars/40-mafmar-a.dib\n",
      "Merge made by the 'ort' strategy.\n",
      " 40-mafmars/40-mafmar-a.dib | 24 ++++++++++++------------\n",
      " eylon/core.py              |  4 +++-\n",
      " 2 files changed, 15 insertions(+), 13 deletions(-)\n",
      "\n"
     ]
    },
    {
     "name": "stderr",
     "output_type": "stream",
     "text": [
      "To https://github.com/eylon-holon/scratch-a\n",
      "   ad7213d..0873725  alma-drobles -> alma-drobles\n"
     ]
    }
   ],
   "source": [
    "from eylon.core import *\n",
    "store_all_changes_to_github()\n",
    "get_next_lesson()"
   ]
  }
 ],
 "metadata": {
  "kernelspec": {
   "display_name": "Python 3",
   "language": "python",
   "name": "python3"
  },
  "language_info": {
   "codemirror_mode": {
    "name": "ipython",
    "version": 3
   },
   "file_extension": ".py",
   "mimetype": "text/x-python",
   "name": "python",
   "nbconvert_exporter": "python",
   "pygments_lexer": "ipython3",
   "version": "3.12.1"
  }
 },
 "nbformat": 4,
 "nbformat_minor": 2
}
