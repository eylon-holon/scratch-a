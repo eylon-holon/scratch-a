{
 "cells": [
  {
   "cell_type": "code",
   "execution_count": 1,
   "metadata": {},
   "outputs": [
    {
     "name": "stderr",
     "output_type": "stream",
     "text": [
      "From https://github.com/eylon-holon/scratch-a\n",
      "   bbfa1fd..e2d4be5  adi-heller         -> origin/adi-heller\n",
      "   786329a..d013fc2  alma-drobles       -> origin/alma-drobles\n",
      " * [new branch]      alon-abekasis      -> origin/alon-abekasis\n",
      "   c990b80..53cbdb2  ariel-cohen        -> origin/ariel-cohen\n",
      "   c2bb7f4..70ea581  ariel-palomo       -> origin/ariel-palomo\n",
      "   514946d..0fd623f  bar-cohen          -> origin/bar-cohen\n",
      " * [new branch]      dev                -> origin/dev\n",
      "   f8b2bee..b016c6b  elina-berzon       -> origin/elina-berzon\n",
      "   335404b..83daf46  ido-molayem        -> origin/ido-molayem\n",
      "   57a612b..ab6a140  itay-levy          -> origin/itay-levy\n",
      "   b96d2ed..766a4b4  kristina-haysenyuk -> origin/kristina-haysenyuk\n",
      "   d3474a8..f136b01  libby-hasson       -> origin/libby-hasson\n",
      "   a46fab4..d255ad3  libi-cohen         -> origin/libi-cohen\n",
      " * [new branch]      liraz-aharonov     -> origin/liraz-aharonov\n",
      "   d016761..dfaf0ff  main               -> origin/main\n",
      "   36b94e4..863603b  maya-rosenzweig    -> origin/maya-rosenzweig\n",
      "   c695478..7be781e  netaniel-netaniel  -> origin/netaniel-netaniel\n",
      " * [new branch]      noa-rosenzweig     -> origin/noa-rosenzweig\n",
      "   c3fb347..9bd8bb4  ofir-lifshits      -> origin/ofir-lifshits\n",
      "   57a612b..2999e30  or-itzhak          -> origin/or-itzhak\n",
      "   c732327..85cf4c7  or-yakov           -> origin/or-yakov\n",
      " * [new branch]      oria-dabach        -> origin/oria-dabach\n",
      "   47b470c..94bb8ad  oriel-aisha        -> origin/oriel-aisha\n",
      "   57a612b..b941f84  ron-vaisman        -> origin/ron-vaisman\n",
      "   b9f145e..890c683  shilo-leon         -> origin/shilo-leon\n",
      " * [new branch]      taei-bangiev       -> origin/taei-bangiev\n",
      "   2343705..c55653a  tom-zuckerstein    -> origin/tom-zuckerstein\n",
      " * [new branch]      yaara-drobles      -> origin/yaara-drobles\n"
     ]
    },
    {
     "name": "stdout",
     "output_type": "stream",
     "text": [
      "Already up to date.\n",
      "\n",
      "\n",
      "[gosha-smeh 071c0e1] auto commit...\n",
      " 1 file changed, 40 insertions(+), 17 deletions(-)\n",
      "\n"
     ]
    },
    {
     "name": "stderr",
     "output_type": "stream",
     "text": [
      "To https://github.com/eylon-holon/scratch-a\n",
      "   87a5dde..071c0e1  gosha-smeh -> gosha-smeh\n"
     ]
    },
    {
     "name": "stdout",
     "output_type": "stream",
     "text": [
      "\n",
      "Merge made by the 'ort' strategy.\n",
      " 40-mafmars/40-mafmar-a.dib          | 10 +++++++---\n",
      " 40-mafmars/40-mafmar-a.solution.dib | 20 ++++++++++++--------\n",
      " 2 files changed, 19 insertions(+), 11 deletions(-)\n",
      "\n",
      "\n"
     ]
    },
    {
     "name": "stderr",
     "output_type": "stream",
     "text": [
      "To https://github.com/eylon-holon/scratch-a\n",
      "   071c0e1..9e59884  gosha-smeh -> gosha-smeh\n"
     ]
    }
   ],
   "source": [
    "from eylon.core import *\n",
    "store_all_changes_to_github()\n",
    "get_next_lesson()"
   ]
  }
 ],
 "metadata": {
  "kernelspec": {
   "display_name": "Python 3",
   "language": "python",
   "name": "python3"
  },
  "language_info": {
   "codemirror_mode": {
    "name": "ipython",
    "version": 3
   },
   "file_extension": ".py",
   "mimetype": "text/x-python",
   "name": "python",
   "nbconvert_exporter": "python",
   "pygments_lexer": "ipython3",
   "version": "3.12.1"
  }
 },
 "nbformat": 4,
 "nbformat_minor": 2
}
