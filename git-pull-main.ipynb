{
 "cells": [
  {
   "cell_type": "code",
   "execution_count": 1,
   "metadata": {},
   "outputs": [
    {
     "name": "stderr",
     "output_type": "stream",
     "text": [
      "From https://github.com/eylon-holon/scratch-a\n",
      "   58321c4..e2d4be5  adi-heller         -> origin/adi-heller\n",
      "   5902e0f..db2f539  alma-drobles       -> origin/alma-drobles\n",
      " * [new branch]      alon-abekasis      -> origin/alon-abekasis\n",
      "   4140837..53cbdb2  ariel-cohen        -> origin/ariel-cohen\n",
      " * [new branch]      ariel-palomo       -> origin/ariel-palomo\n",
      " * [new branch]      bar-cohen          -> origin/bar-cohen\n",
      " * [new branch]      dev                -> origin/dev\n",
      "   ec9385f..b016c6b  elina-berzon       -> origin/elina-berzon\n",
      "   ec9385f..6bf61bd  gosha-smeh         -> origin/gosha-smeh\n",
      "   ec9385f..83daf46  ido-molayem        -> origin/ido-molayem\n",
      " * [new branch]      itay-levy          -> origin/itay-levy\n",
      "   ffe3ea0..766a4b4  kristina-haysenyuk -> origin/kristina-haysenyuk\n",
      " * [new branch]      libby-hasson       -> origin/libby-hasson\n",
      " * [new branch]      libi-cohen         -> origin/libi-cohen\n",
      " * [new branch]      liraz-aharonov     -> origin/liraz-aharonov\n",
      "   84500f6..d016761  main               -> origin/main\n",
      "   f23a96f..863603b  maya-rosenzweig    -> origin/maya-rosenzweig\n",
      "   b1b1dc6..7be781e  netaniel-netaniel  -> origin/netaniel-netaniel\n",
      " * [new branch]      noa-rosenzweig     -> origin/noa-rosenzweig\n",
      " * [new branch]      or-itzhak          -> origin/or-itzhak\n",
      "   e7bd980..f90799e  or-yakov           -> origin/or-yakov\n",
      " * [new branch]      oria-dabach        -> origin/oria-dabach\n",
      "   eb144c3..ef59bf1  oriel-aisha        -> origin/oriel-aisha\n",
      " * [new branch]      ron-vaisman        -> origin/ron-vaisman\n",
      "   ec9385f..890c683  shilo-leon         -> origin/shilo-leon\n",
      " * [new branch]      taei-bangiev       -> origin/taei-bangiev\n",
      "   d7577a9..f549c8f  tom-zuckerstein    -> origin/tom-zuckerstein\n",
      " * [new branch]      yaara-drobles      -> origin/yaara-drobles\n"
     ]
    },
    {
     "name": "stdout",
     "output_type": "stream",
     "text": [
      "Already up to date.\n",
      "\n",
      "\n",
      "[ofir-lifshits 5bd9d7b] auto commit...\n",
      " 3 files changed, 8 insertions(+), 56 deletions(-)\n",
      "\n"
     ]
    },
    {
     "name": "stderr",
     "output_type": "stream",
     "text": [
      "To https://github.com/eylon-holon/scratch-a\n",
      "   56bc3f4..5bd9d7b  ofir-lifshits -> ofir-lifshits\n"
     ]
    },
    {
     "name": "stdout",
     "output_type": "stream",
     "text": [
      "\n",
      "Auto-merging 40-mafmars/40-mafmar-a.dib\n",
      "Merge made by the 'ort' strategy.\n",
      " 40-mafmars/40-mafmar-a.dib          |  28 +-\n",
      " 40-mafmars/40-mafmar-a.solution.dib | 555 ++++++++++++++++++++++++++++++++++++\n",
      " 2 files changed, 575 insertions(+), 8 deletions(-)\n",
      " create mode 100644 40-mafmars/40-mafmar-a.solution.dib\n",
      "\n",
      "\n"
     ]
    },
    {
     "name": "stderr",
     "output_type": "stream",
     "text": [
      "To https://github.com/eylon-holon/scratch-a\n",
      "   5bd9d7b..9bd8bb4  ofir-lifshits -> ofir-lifshits\n"
     ]
    }
   ],
   "source": [
    "from eylon.core import *\n",
    "store_all_changes_to_github()\n",
    "get_next_lesson()"
   ]
  }
 ],
 "metadata": {
  "kernelspec": {
   "display_name": "Python 3",
   "language": "python",
   "name": "python3"
  },
  "language_info": {
   "codemirror_mode": {
    "name": "ipython",
    "version": 3
   },
   "file_extension": ".py",
   "mimetype": "text/x-python",
   "name": "python",
   "nbconvert_exporter": "python",
   "pygments_lexer": "ipython3",
   "version": "3.12.1"
  }
 },
 "nbformat": 4,
 "nbformat_minor": 2
}
