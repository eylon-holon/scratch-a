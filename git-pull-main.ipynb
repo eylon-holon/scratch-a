{
 "cells": [
  {
   "cell_type": "code",
   "execution_count": null,
   "metadata": {},
   "outputs": [
    {
     "name": "stdout",
     "output_type": "stream",
     "text": [
      "\n"
     ]
    },
    {
     "name": "stdout",
     "output_type": "stream",
     "text": [
      "[kristina-haysenyuk 7ee8412] auto commit...\n",
      " 2 files changed, 38 insertions(+), 13 deletions(-)\n",
      "\n"
     ]
    },
    {
     "name": "stderr",
     "output_type": "stream",
     "text": [
      "To https://github.com/eylon-holon/scratch-a\n",
      " ! [rejected]        kristina-haysenyuk -> kristina-haysenyuk (fetch first)\n",
      "error: failed to push some refs to 'https://github.com/eylon-holon/scratch-a'\n",
      "hint: Updates were rejected because the remote contains work that you do not\n",
      "hint: have locally. This is usually caused by another repository pushing to\n",
      "hint: the same ref. If you want to integrate the remote changes, use\n",
      "hint: 'git pull' before pushing again.\n",
      "hint: See the 'Note about fast-forwards' in 'git push --help' for details.\n"
     ]
    },
    {
     "name": "stdout",
     "output_type": "stream",
     "text": [
      "\n"
     ]
    },
    {
     "name": "stderr",
     "output_type": "stream",
     "text": [
      "From https://github.com/eylon-holon/scratch-a\n",
      " * branch            main       -> FETCH_HEAD\n",
      "   bc0c3df..9e319c1  main       -> origin/main\n"
     ]
    },
    {
     "name": "stdout",
     "output_type": "stream",
     "text": [
      "Merge made by the 'ort' strategy.\n",
      " 40-mafmars/40-mafmar-a.dib | 516 +++++++++++++++++++++++++++++++++++++++++++++\n",
      " 40-mafmars/img/q-04.png    | Bin 0 -> 15639 bytes\n",
      " 40-mafmars/img/q-4-c-1.png | Bin 0 -> 1287 bytes\n",
      " 40-mafmars/img/q-4-c-2.png | Bin 0 -> 1175 bytes\n",
      " 40-mafmars/img/q-4-c-3.png | Bin 0 -> 864 bytes\n",
      " 40-mafmars/img/q-4-c-4.png | Bin 0 -> 1437 bytes\n",
      " 40-mafmars/img/q-4-c-5.png | Bin 0 -> 1842 bytes\n",
      " 40-mafmars/img/q-4-c-6.png | Bin 0 -> 1188 bytes\n",
      " 40-mafmars/img/q-5-a.png   | Bin 0 -> 35954 bytes\n",
      " 40-mafmars/img/q-5-b.png   | Bin 0 -> 9441 bytes\n",
      " 40-mafmars/img/q-5-c.png   | Bin 0 -> 43230 bytes\n",
      " 40-mafmars/img/q-5.png     | Bin 0 -> 32632 bytes\n",
      " 40-mafmars/img/q-6-b.png   | Bin 0 -> 38489 bytes\n",
      " 40-mafmars/img/q-7-b.png   | Bin 0 -> 35732 bytes\n",
      " 40-mafmars/img/q-7.png     | Bin 0 -> 40825 bytes\n",
      " 15 files changed, 516 insertions(+)\n",
      " create mode 100644 40-mafmars/40-mafmar-a.dib\n",
      " create mode 100644 40-mafmars/img/q-04.png\n",
      " create mode 100644 40-mafmars/img/q-4-c-1.png\n",
      " create mode 100644 40-mafmars/img/q-4-c-2.png\n",
      " create mode 100644 40-mafmars/img/q-4-c-3.png\n",
      " create mode 100644 40-mafmars/img/q-4-c-4.png\n",
      " create mode 100644 40-mafmars/img/q-4-c-5.png\n",
      " create mode 100644 40-mafmars/img/q-4-c-6.png\n",
      " create mode 100644 40-mafmars/img/q-5-a.png\n",
      " create mode 100644 40-mafmars/img/q-5-b.png\n",
      " create mode 100644 40-mafmars/img/q-5-c.png\n",
      " create mode 100644 40-mafmars/img/q-5.png\n",
      " create mode 100644 40-mafmars/img/q-6-b.png\n",
      " create mode 100644 40-mafmars/img/q-7-b.png\n",
      " create mode 100644 40-mafmars/img/q-7.png\n",
      "\n"
     ]
    },
    {
     "name": "stderr",
     "output_type": "stream",
     "text": [
      "To https://github.com/eylon-holon/scratch-a\n",
      " ! [rejected]        kristina-haysenyuk -> kristina-haysenyuk (fetch first)\n",
      "error: failed to push some refs to 'https://github.com/eylon-holon/scratch-a'\n",
      "hint: Updates were rejected because the remote contains work that you do not\n",
      "hint: have locally. This is usually caused by another repository pushing to\n",
      "hint: the same ref. If you want to integrate the remote changes, use\n",
      "hint: 'git pull' before pushing again.\n",
      "hint: See the 'Note about fast-forwards' in 'git push --help' for details.\n"
     ]
    }
   ],
   "source": [
    "from eylon.core import *\n",
    "store_all_changes_to_github()\n",
    "get_next_lesson()"
   ]
  }
 ],
 "metadata": {
  "kernelspec": {
   "display_name": "Python 3",
   "language": "python",
   "name": "python3"
  },
  "language_info": {
   "codemirror_mode": {
    "name": "ipython",
    "version": 3
   },
   "file_extension": ".py",
   "mimetype": "text/x-python",
   "name": "python",
   "nbconvert_exporter": "python",
   "pygments_lexer": "ipython3",
   "version": "3.12.1"
  }
 },
 "nbformat": 4,
 "nbformat_minor": 2
}
