{
 "cells": [
  {
   "cell_type": "code",
   "execution_count": 1,
   "metadata": {},
   "outputs": [
    {
     "name": "stderr",
     "output_type": "stream",
     "text": [
      "From https://github.com/eylon-holon/scratch-a\n",
      "   5a78b57..05f3f98  ariel-cohen        -> origin/ariel-cohen\n",
      "   12f5d6a..6f0abea  gosha-smeh         -> origin/gosha-smeh\n",
      "   af280d7..6a23346  kristina-haysenyuk -> origin/kristina-haysenyuk\n",
      "   0a60712..81eda34  liraz-aharonov     -> origin/liraz-aharonov\n",
      "   5a9e774..8f2a6f9  main               -> origin/main\n",
      "   7be781e..a7fd9a1  netaniel-netaniel  -> origin/netaniel-netaniel\n",
      "   9bd8bb4..b732421  ofir-lifshits      -> origin/ofir-lifshits\n",
      "   2999e30..58e5dc1  or-itzhak          -> origin/or-itzhak\n",
      "   2ac4c10..2a3de61  oria-dabach        -> origin/oria-dabach\n",
      "   30b67fe..95b2bb3  tom-zuckerstein    -> origin/tom-zuckerstein\n"
     ]
    },
    {
     "name": "stdout",
     "output_type": "stream",
     "text": [
      "Already up to date.\n",
      "\n",
      "\n",
      "[alon-abekasis bb0bc53] auto commit...\n",
      " 2 files changed, 3 insertions(+), 52 deletions(-)\n",
      "\n"
     ]
    },
    {
     "name": "stderr",
     "output_type": "stream",
     "text": [
      "To https://github.com/eylon-holon/scratch-a\n",
      "   131107f..bb0bc53  alon-abekasis -> alon-abekasis\n"
     ]
    },
    {
     "name": "stdout",
     "output_type": "stream",
     "text": [
      "\n",
      "Merge made by the 'ort' strategy.\n",
      " daf-ezer/def-ezer-scratch.dib | 588 ++++++++++++++++++++++++++++++++++++++++++\n",
      " 1 file changed, 588 insertions(+)\n",
      " create mode 100644 daf-ezer/def-ezer-scratch.dib\n",
      "\n",
      "\n"
     ]
    },
    {
     "name": "stderr",
     "output_type": "stream",
     "text": [
      "To https://github.com/eylon-holon/scratch-a\n",
      "   bb0bc53..244a3e3  alon-abekasis -> alon-abekasis\n"
     ]
    }
   ],
   "source": [
    "from eylon.core import *\n",
    "store_all_changes_to_github()\n",
    "get_next_lesson()"
   ]
  }
 ],
 "metadata": {
  "kernelspec": {
   "display_name": "Python 3",
   "language": "python",
   "name": "python3"
  },
  "language_info": {
   "codemirror_mode": {
    "name": "ipython",
    "version": 3
   },
   "file_extension": ".py",
   "mimetype": "text/x-python",
   "name": "python",
   "nbconvert_exporter": "python",
   "pygments_lexer": "ipython3",
   "version": "3.12.1"
  }
 },
 "nbformat": 4,
 "nbformat_minor": 2
}
