{
 "cells": [
  {
   "cell_type": "code",
   "execution_count": 1,
   "metadata": {},
   "outputs": [
    {
     "name": "stderr",
     "output_type": "stream",
     "text": [
      "From https://github.com/eylon-holon/scratch-a\n",
      "   db2f539..d013fc2  alma-drobles    -> origin/alma-drobles\n",
      "   6bf61bd..87a5dde  gosha-smeh      -> origin/gosha-smeh\n",
      "   84500f6..9138f79  main            -> origin/main\n",
      "   56bc3f4..9bd8bb4  ofir-lifshits   -> origin/ofir-lifshits\n",
      "   f90799e..85cf4c7  or-yakov        -> origin/or-yakov\n",
      "   ef59bf1..94bb8ad  oriel-aisha     -> origin/oriel-aisha\n",
      "   f549c8f..49af2fe  tom-zuckerstein -> origin/tom-zuckerstein\n"
     ]
    },
    {
     "name": "stdout",
     "output_type": "stream",
     "text": [
      "Already up to date.\n",
      "\n",
      "\n",
      "[oria-dabach a85347b] auto commit...\n",
      " 2 files changed, 34 insertions(+), 23 deletions(-)\n",
      "\n"
     ]
    },
    {
     "name": "stderr",
     "output_type": "stream",
     "text": [
      "To https://github.com/eylon-holon/scratch-a\n",
      "   a3214b3..a85347b  oria-dabach -> oria-dabach\n"
     ]
    },
    {
     "name": "stdout",
     "output_type": "stream",
     "text": [
      "\n",
      "Auto-merging 40-mafmars/40-mafmar-a.dib\n",
      "Merge made by the 'ort' strategy.\n",
      " 40-mafmars/40-mafmar-a.dib          |  42 ++-\n",
      " 40-mafmars/40-mafmar-a.solution.dib | 557 ++++++++++++++++++++++++++++++++++++\n",
      " 2 files changed, 586 insertions(+), 13 deletions(-)\n",
      " create mode 100644 40-mafmars/40-mafmar-a.solution.dib\n",
      "\n",
      "\n"
     ]
    },
    {
     "name": "stderr",
     "output_type": "stream",
     "text": [
      "To https://github.com/eylon-holon/scratch-a\n",
      "   a85347b..2ac4c10  oria-dabach -> oria-dabach\n"
     ]
    }
   ],
   "source": [
    "from eylon.core import *\n",
    "store_all_changes_to_github()\n",
    "get_next_lesson()"
   ]
  }
 ],
 "metadata": {
  "kernelspec": {
   "display_name": "Python 3",
   "language": "python",
   "name": "python3"
  },
  "language_info": {
   "codemirror_mode": {
    "name": "ipython",
    "version": 3
   },
   "file_extension": ".py",
   "mimetype": "text/x-python",
   "name": "python",
   "nbconvert_exporter": "python",
   "pygments_lexer": "ipython3",
   "version": "3.12.1"
  }
 },
 "nbformat": 4,
 "nbformat_minor": 2
}
