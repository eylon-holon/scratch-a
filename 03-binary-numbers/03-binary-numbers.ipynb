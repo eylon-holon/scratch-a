{
 "cells": [
  {
   "cell_type": "code",
   "execution_count": 6,
   "metadata": {},
   "outputs": [
    {
     "name": "stdout",
     "output_type": "stream",
     "text": [
      "Hi alon-abekasis 😁! Let's start the lesson... 🙌\n"
     ]
    }
   ],
   "source": [
    "import os\n",
    "while not os.getcwd().endswith(\"scratch-a\"): os.chdir(\"..\")\n",
    "from eylon.core import *\n",
    "\n",
    "def dec2bin_got_it(): pass\n",
    "def dec2bin_coded_it(): pass\n",
    "def dec2bin_tested_it(): pass\n",
    "def dec2bin_done(): pass\n",
    "def bin2dec_got_it(): pass\n",
    "def bin2dec_coded_it(): pass\n",
    "def bin2dec_tested_it(): pass\n",
    "def all_done(): pass\n",
    "\n",
    "start({\n",
    "    \"dec2bin_got_it()\": [],\n",
    "    \"dec2bin_coded_it()\": [],\n",
    "    \"dec2bin_tested_it()\": [],\n",
    "    \"dec2bin_done()\": [],\n",
    "    \"bin2dec_got_it()\": [],\n",
    "    \"bin2dec_coded_it()\": [],\n",
    "    \"bin2dec_tested_it()\": [],\n",
    "    \"all_done()\": [],\n",
    "})"
   ]
  },
  {
   "cell_type": "code",
   "execution_count": 2,
   "metadata": {},
   "outputs": [
    {
     "name": "stdout",
     "output_type": "stream",
     "text": [
      "Congrats alon-abekasis! Got it: '03-binary-numbers.dec2bin_got_it'. Gosha is happy :) 👍\n"
     ]
    }
   ],
   "source": [
    "submit(dec2bin_got_it)"
   ]
  },
  {
   "cell_type": "code",
   "execution_count": 3,
   "metadata": {},
   "outputs": [
    {
     "name": "stdout",
     "output_type": "stream",
     "text": [
      "Congrats alon-abekasis! Got it: '03-binary-numbers.dec2bin_coded_it'. Gosha is happy :) 👍\n"
     ]
    }
   ],
   "source": [
    "submit(dec2bin_coded_it)"
   ]
  },
  {
   "cell_type": "code",
   "execution_count": 4,
   "metadata": {},
   "outputs": [
    {
     "name": "stdout",
     "output_type": "stream",
     "text": [
      "Congrats alon-abekasis! Got it: '03-binary-numbers.dec2bin_tested_it'. Gosha is happy :) 👍\n"
     ]
    }
   ],
   "source": [
    "submit(dec2bin_tested_it)"
   ]
  },
  {
   "cell_type": "code",
   "execution_count": 5,
   "metadata": {},
   "outputs": [
    {
     "name": "stdout",
     "output_type": "stream",
     "text": [
      "Congrats alon-abekasis! Got it: '03-binary-numbers.dec2bin_done'. Gosha is happy :) 👍\n"
     ]
    }
   ],
   "source": [
    "submit(dec2bin_done)"
   ]
  },
  {
   "cell_type": "code",
   "execution_count": null,
   "metadata": {},
   "outputs": [],
   "source": [
    "submit(bin2dec_got_it)"
   ]
  },
  {
   "cell_type": "code",
   "execution_count": null,
   "metadata": {},
   "outputs": [],
   "source": [
    "submit(bin2dec_tested_it)"
   ]
  },
  {
   "cell_type": "code",
   "execution_count": null,
   "metadata": {},
   "outputs": [],
   "source": [
    "submit(bin2dec_coded_it)"
   ]
  },
  {
   "cell_type": "code",
   "execution_count": null,
   "metadata": {},
   "outputs": [],
   "source": [
    "store_all_changes_to_github()\n",
    "submit(all_done)"
   ]
  }
 ],
 "metadata": {
  "kernelspec": {
   "display_name": "Python 3",
   "language": "python",
   "name": "python3"
  },
  "language_info": {
   "codemirror_mode": {
    "name": "ipython",
    "version": 3
   },
   "file_extension": ".py",
   "mimetype": "text/x-python",
   "name": "python",
   "nbconvert_exporter": "python",
   "pygments_lexer": "ipython3",
   "version": "3.12.1"
  }
 },
 "nbformat": 4,
 "nbformat_minor": 2
}
