{
 "cells": [
  {
   "cell_type": "code",
   "execution_count": 5,
   "metadata": {
    "dotnet_interactive": {
     "language": "csharp"
    },
    "polyglot_notebook": {
     "kernelName": "csharp"
    },
    "vscode": {
     "languageId": "polyglot-notebook"
    }
   },
   "outputs": [
    {
     "ename": "Error",
     "evalue": "(1,24): error CS1003: Syntax error, 'in' expected\n(2,9): error CS1525: Invalid expression term 'int'\n(2,48): error CS0742: A query body must end with a select clause or a group clause\n(2,48): error CS1002: ; expected",
     "output_type": "error",
     "traceback": [
      "(1,24): error CS1003: Syntax error, 'in' expected\n",
      "(2,9): error CS1525: Invalid expression term 'int'\n",
      "(2,48): error CS0742: A query body must end with a select clause or a group clause\n",
      "(2,48): error CS1002: ; expected"
     ]
    }
   ],
   "source": [
    "from eylon.core import *\n",
    "grade = int(input(\"Please enter your grade: \"))\n",
    "print(post_my_grade(\"self-grade\", grade))"
   ]
  }
 ],
 "metadata": {
  "kernelspec": {
   "display_name": ".NET (C#)",
   "language": "C#",
   "name": ".net-csharp"
  },
  "language_info": {
   "codemirror_mode": {
    "name": "ipython",
    "version": 3
   },
   "file_extension": ".py",
   "mimetype": "text/x-python",
   "name": "python",
   "nbconvert_exporter": "python",
   "pygments_lexer": "ipython3",
   "version": "3.12.1"
  },
  "polyglot_notebook": {
   "kernelInfo": {
    "defaultKernelName": "csharp",
    "items": [
     {
      "aliases": [],
      "name": "csharp"
     }
    ]
   }
  }
 },
 "nbformat": 4,
 "nbformat_minor": 2
}
